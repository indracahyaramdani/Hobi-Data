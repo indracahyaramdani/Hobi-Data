{
 "cells": [
  {
   "cell_type": "markdown",
   "id": "a0f855ca",
   "metadata": {},
   "source": [
    "# Implicit vs. explicit data\n",
    "\n",
    "As mentioned in the video exercise, feedback used in recommendation engines can be explicit or implicit.\n",
    "\n",
    "The dataset `listening_history_df` has been loaded for you. This dataset contains columns identifying the users, the songs they listen to, along with:\n",
    "\n",
    "* `Skipped Track`: A Boolean column recording whether the user skipped the song or listened to it to the end.\n",
    "* `Rating`: The score out of 10 the user gave the song.\n",
    "In this exercise, you will explore the data and from this exploration identify which columns best reflect explicit feedback versus implicit feedback."
   ]
  },
  {
   "cell_type": "markdown",
   "id": "4081bf7b",
   "metadata": {},
   "source": [
    "**Intruction**\n",
    "* Inspect the first 5 rows of `listening_history_df`.\n",
    "* Print the number of unique values in the `Rating` and `Skipped Track` columns.\n",
    "* Display a histogram of the values in the `Rating` column"
   ]
  },
  {
   "cell_type": "code",
   "execution_count": 1,
   "id": "100fd456",
   "metadata": {},
   "outputs": [],
   "source": [
    "import pandas as pd\n",
    "import numpy as np\n",
    "import matplotlib.pyplot as plt\n",
    "\n",
    "listening_history_df= pd.read_csv('Implicit.csv')"
   ]
  },
  {
   "cell_type": "code",
   "execution_count": 2,
   "id": "a425c4f3",
   "metadata": {},
   "outputs": [
    {
     "name": "stdout",
     "output_type": "stream",
     "text": [
      "          User            Song Title  Skipped Track  Rating\n",
      "0  0  User_001  Like a Rolling Stone           True       6\n",
      "1  1  User_001               Imagine          False       2\n",
      "2  2  User_001       What's Going On          False       9\n",
      "3  3  User_002               Respect          False       6\n",
      "4  4  User_003       Good Vibrations           True       0\n",
      "Rating           11\n",
      "Skipped Track     2\n",
      "dtype: int64\n"
     ]
    },
    {
     "data": {
      "image/png": "[encoded data removed]",
      "text/plain": [
       "<Figure size 432x288 with 1 Axes>"
      ]
     },
     "metadata": {
      "needs_background": "light"
     },
     "output_type": "display_data"
    }
   ],
   "source": [
    "# Inspect the listening_history_df DataFrame\n",
    "print(listening_history_df.head())\n",
    "\n",
    "# Calculate the number of unique values\n",
    "print(listening_history_df[['Rating', 'Skipped Track']].nunique())\n",
    "\n",
    "# Display a histogram of the values in the Rating column\n",
    "listening_history_df['Rating'].hist()\n",
    "plt.show()"
   ]
  },
  {
   "cell_type": "markdown",
   "id": "b44d1055",
   "metadata": {},
   "source": [
    "# Introduction to non-personalized recommendations\n",
    "\n",
    "One of the most basic ways to make recommendations is to go with the knowledge of the crowd and recommend what is already the most popular. In this exercise, you will calculate how often each movie in the dataset has been watched and find the most frequently watched movies.\n",
    "\n",
    "The DataFrame `user_ratings_df`, which is a subset of the Movie Lens dataset, has been loaded for you. This table contains identifiers for each movie and the user who watched it, along with the rating they gave it."
   ]
  },
  {
   "cell_type": "markdown",
   "id": "6c95660f",
   "metadata": {},
   "source": [
    "**Intruction**\n",
    "* Calculate the number of times each movie occurs in the dataset.\n",
    "* Print the titles of the top five most frequently seen movies."
   ]
  },
  {
   "cell_type": "code",
   "execution_count": 6,
   "id": "e6a47479",
   "metadata": {},
   "outputs": [],
   "source": [
    "user_ratings_df=pd.read_csv('user_ratings.csv')"
   ]
  },
  {
   "cell_type": "code",
   "execution_count": 7,
   "id": "026acbf7",
   "metadata": {},
   "outputs": [
    {
     "name": "stdout",
     "output_type": "stream",
     "text": [
      "Index(['Forrest Gump (1994)', 'Shawshank Redemption, The (1994)',\n",
      "       'Pulp Fiction (1994)', 'Silence of the Lambs, The (1991)',\n",
      "       'Matrix, The (1999)'],\n",
      "      dtype='object')\n"
     ]
    }
   ],
   "source": [
    "# Get the counts of occurrences of each movie title\n",
    "movie_popularity = user_ratings_df[\"title\"].value_counts()\n",
    "\n",
    "# Inspect the most common values\n",
    "print(movie_popularity.head().index)\n"
   ]
  },
  {
   "cell_type": "markdown",
   "id": "12bac92d",
   "metadata": {},
   "source": [
    "# Improved non-personalized recommendations\n",
    "\n",
    "Just because a movie has been watched by a lot of people doesn't necessarily mean viewers enjoyed it. To understand how a viewer actually felt about a movie, more explicit data is useful. Thankfully, you also have ratings from each of the viewers in the Movie Lens dataset.\n",
    "\n",
    "In this exercise, you will find the average rating of each movie in the dataset, and then find the movie with the highest average rating.\n",
    "\n",
    "You will use the same `user_ratings_df` as you used in the previous exercise, which has been loaded for you."
   ]
  },
  {
   "cell_type": "markdown",
   "id": "1943aade",
   "metadata": {},
   "source": [
    "**Intructions**\n",
    "* Find the `average rating` for each of the movies and store it as a DataFrame called average_rating_df.\n",
    "* Sort the `average_rating_df` DataFrame by the average rating column from highest to lowest and store it as sorted_average_ratings.\n",
    "* Print the entries for the top five highest ranked movies in `sorted_average_ratings`"
   ]
  },
  {
   "cell_type": "code",
   "execution_count": 8,
   "id": "2bda7763",
   "metadata": {},
   "outputs": [
    {
     "name": "stdout",
     "output_type": "stream",
     "text": [
      "                                     rating\n",
      "title                                      \n",
      "Gena the Crocodile (1969)               5.0\n",
      "True Stories (1986)                     5.0\n",
      "Cosmic Scrat-tastrophe (2015)           5.0\n",
      "Love and Pigeons (1985)                 5.0\n",
      "Red Sorghum (Hong gao liang) (1987)     5.0\n"
     ]
    }
   ],
   "source": [
    "# Find the mean of the ratings given to each title\n",
    "average_rating_df = user_ratings_df[[\"title\", \"rating\"]].groupby('title').mean()\n",
    "\n",
    "# Order the entries by highest average rating to lowest\n",
    "sorted_average_ratings = average_rating_df.sort_values(by=\"rating\", ascending=False)\n",
    "\n",
    "# Inspect the top movies\n",
    "print(sorted_average_ratings.head())"
   ]
  },
  {
   "cell_type": "markdown",
   "id": "a4ba1bd7",
   "metadata": {},
   "source": [
    "# Combining popularity and reviews\n",
    "\n",
    "In the past two exercises, you have used the two most common non-personalized recommendation methods to find movies to suggest. As you may have noticed, they both have their weaknesses.\n",
    "\n",
    "Finding the most frequently watched movies will show you what has been watched, but not how people explicitly feel about it. However, finding the average of reviews has the opposite problem where we have customers' explicit feedback, but individual preferences are skewing the data.\n",
    "\n",
    "In this exercise, you will combine the two previous methods to find the average rating only for movies that have been reviewed more than 50 times."
   ]
  },
  {
   "cell_type": "markdown",
   "id": "d4e1a546",
   "metadata": {},
   "source": [
    "**Intructions**\n",
    "* Generate a list of the names of the movies appearing more than 50 times in `user_ratings_df` and store it as `popular_movies`.\n"
   ]
  },
  {
   "cell_type": "code",
   "execution_count": null,
   "id": "57a8c00b",
   "metadata": {},
   "outputs": [],
   "source": [
    "user_ratings_df"
   ]
  },
  {
   "cell_type": "code",
   "execution_count": 9,
   "id": "4a5903ff",
   "metadata": {},
   "outputs": [
    {
     "name": "stdout",
     "output_type": "stream",
     "text": [
      "Index(['Forrest Gump (1994)', 'Shawshank Redemption, The (1994)',\n",
      "       'Pulp Fiction (1994)', 'Silence of the Lambs, The (1991)',\n",
      "       'Matrix, The (1999)', 'Star Wars: Episode IV - A New Hope (1977)',\n",
      "       'Jurassic Park (1993)', 'Braveheart (1995)',\n",
      "       'Terminator 2: Judgment Day (1991)', 'Schindler's List (1993)',\n",
      "       ...\n",
      "       'Chasing Amy (1997)', 'Grumpier Old Men (1995)', 'Knocked Up (2007)',\n",
      "       'Blow (2001)', 'Training Day (2001)', 'Army of Darkness (1993)',\n",
      "       'Splash (1984)', 'Mulholland Drive (2001)', 'Bad Boys (1995)',\n",
      "       'The Devil's Advocate (1997)'],\n",
      "      dtype='object', length=437)\n"
     ]
    }
   ],
   "source": [
    "# Create a list of only movies appearing > 50 times in the dataset\n",
    "movie_popularity = user_ratings_df[\"title\"].value_counts()\n",
    "popular_movies = movie_popularity[movie_popularity > 50].index\n",
    "\n",
    "print(popular_movies)"
   ]
  },
  {
   "cell_type": "markdown",
   "id": "7288ce6a",
   "metadata": {},
   "source": [
    "**Intructions**\n",
    "* Filter the original `user_ratings_df` DataFrame by the popular_movies list to create a `popular_movies_rankings` DataFrame and print the results."
   ]
  },
  {
   "cell_type": "code",
   "execution_count": 10,
   "id": "8cd47b86",
   "metadata": {},
   "outputs": [
    {
     "name": "stdout",
     "output_type": "stream",
     "text": [
      "       userId  movieId  rating   timestamp                 title  \\\n",
      "0           1        1     4.0   964982703      Toy Story (1995)   \n",
      "1           5        1     4.0   847434962      Toy Story (1995)   \n",
      "2           7        1     4.5  1106635946      Toy Story (1995)   \n",
      "3          15        1     2.5  1510577970      Toy Story (1995)   \n",
      "4          17        1     4.5  1305696483      Toy Story (1995)   \n",
      "...       ...      ...     ...         ...                   ...   \n",
      "79246     603     1997     4.0   953925513  Exorcist, The (1973)   \n",
      "79247     606     1997     3.0  1178911117  Exorcist, The (1973)   \n",
      "79248     607     1997     5.0   963079420  Exorcist, The (1973)   \n",
      "79249     608     1997     4.5  1117502891  Exorcist, The (1973)   \n",
      "79250     610     1997     4.0  1479543021  Exorcist, The (1973)   \n",
      "\n",
      "                                            genres  \n",
      "0      Adventure|Animation|Children|Comedy|Fantasy  \n",
      "1      Adventure|Animation|Children|Comedy|Fantasy  \n",
      "2      Adventure|Animation|Children|Comedy|Fantasy  \n",
      "3      Adventure|Animation|Children|Comedy|Fantasy  \n",
      "4      Adventure|Animation|Children|Comedy|Fantasy  \n",
      "...                                            ...  \n",
      "79246                               Horror|Mystery  \n",
      "79247                               Horror|Mystery  \n",
      "79248                               Horror|Mystery  \n",
      "79249                               Horror|Mystery  \n",
      "79250                               Horror|Mystery  \n",
      "\n",
      "[40712 rows x 6 columns]\n"
     ]
    }
   ],
   "source": [
    "# Create a list of only movies appearing > 50 times in the dataset\n",
    "movie_popularity = user_ratings_df[\"title\"].value_counts()\n",
    "popular_movies = movie_popularity[movie_popularity > 50].index\n",
    "\n",
    "# Use this popular_movies list to filter the original DataFrame\n",
    "popular_movies_rankings = user_ratings_df[user_ratings_df[\"title\"].isin(popular_movies)]\n",
    "\n",
    "# Inspect the movies watched over 50 times\n",
    "print(popular_movies_rankings)"
   ]
  },
  {
   "cell_type": "markdown",
   "id": "09936292",
   "metadata": {},
   "source": [
    "**Intructions**\n",
    "* Find the average rating given to the frequently watched films in `popular_movies_rankings` and store it as `popular_movies_average_rankings`.\n",
    "* Print the entries in `popular_movies_average_rankings` that contain the highest-ranked movies"
   ]
  },
  {
   "cell_type": "code",
   "execution_count": 11,
   "id": "2b6c4754",
   "metadata": {},
   "outputs": [
    {
     "name": "stdout",
     "output_type": "stream",
     "text": [
      "                                                      rating\n",
      "title                                                       \n",
      "Shawshank Redemption, The (1994)                    4.429022\n",
      "Godfather, The (1972)                               4.289062\n",
      "Fight Club (1999)                                   4.272936\n",
      "Cool Hand Luke (1967)                               4.271930\n",
      "Dr. Strangelove or: How I Learned to Stop Worry...  4.268041\n"
     ]
    }
   ],
   "source": [
    "# Create a list of only movies appearing > 50 times in the dataset\n",
    "movie_popularity = user_ratings_df[\"title\"].value_counts()\n",
    "popular_movies = movie_popularity[movie_popularity > 50].index\n",
    "\n",
    "# Use this popular_movies list to filter the original DataFrame\n",
    "popular_movies_rankings =  user_ratings_df[user_ratings_df[\"title\"].isin(popular_movies)]\n",
    "\n",
    "# Find the average rating given to these frequently watched films\n",
    "popular_movies_average_rankings = popular_movies_rankings[[\"title\", \"rating\"]].groupby('title').mean()\n",
    "print(popular_movies_average_rankings.sort_values(by=\"rating\", ascending=False).head())"
   ]
  },
  {
   "cell_type": "markdown",
   "id": "0bbc59f7",
   "metadata": {},
   "source": [
    "# Finding all pairs of movies\n",
    "In this exercise, you will work through how to find all pairs of movies or all permutations of pairs of movies that have been watched by the same person.\n",
    "\n",
    "The `user_ratings_df` has been loaded once again containing users, and the movies they have seen.\n",
    "\n",
    "You will need to first create a function that finds all possible pairs of items in a list it is applied to. For ease of use, you will output the values of this as a DataFrame. Since you only want to find movies that have been seen by the same person and not all possible permutations, you will group by `user_id` when applying the function."
   ]
  },
  {
   "cell_type": "markdown",
   "id": "fad54f6e",
   "metadata": {},
   "source": [
    "**Intructions**\n",
    "* Create a function called `find_movie_pairs` that finds all permutations of a Series, and stores the results as a DataFrame.\n",
    "* Apply this function to the `user_ratings_df` DataFrame and print the results."
   ]
  },
  {
   "cell_type": "code",
   "execution_count": 30,
   "id": "cd92448c",
   "metadata": {},
   "outputs": [],
   "source": [
    "user_ratings_df=pd.read_csv('pairs of movies.csv')"
   ]
  },
  {
   "cell_type": "code",
   "execution_count": 31,
   "id": "e1a74a6b",
   "metadata": {},
   "outputs": [
    {
     "name": "stdout",
     "output_type": "stream",
     "text": [
      "                 movie_a                         movie_b\n",
      "userId                                                  \n",
      "18     0        Bad Boys                            Thor\n",
      "       1            Thor                        Bad Boys\n",
      "21     0        Bad Boys                  21 Jump Street\n",
      "       1  21 Jump Street                        Bad Boys\n",
      "62     0            Thor  Avengers Infinity War - Part:I\n",
      "...                  ...                             ...\n",
      "610    1            Thor                          Cars 2\n",
      "       2     Bridesmaids                            Thor\n",
      "       3     Bridesmaids                          Cars 2\n",
      "       4          Cars 2                            Thor\n",
      "       5          Cars 2                     Bridesmaids\n",
      "\n",
      "[412 rows x 2 columns]\n"
     ]
    }
   ],
   "source": [
    "from itertools import permutations\n",
    "\n",
    "# Create the function to find all permutations\n",
    "def find_movie_pairs(x):\n",
    "  pairs = pd.DataFrame(list(permutations(x.values, 2)),\n",
    "                       columns=['movie_a', 'movie_b'])\n",
    "  return pairs\n",
    "\n",
    "# Apply the function to the title column and reset the index\n",
    "movie_combinations = user_ratings_df.groupby('userId')['title'].apply(find_movie_pairs)\n",
    "\n",
    "print(movie_combinations)"
   ]
  },
  {
   "cell_type": "markdown",
   "id": "7289d7d8",
   "metadata": {},
   "source": [
    "**Intructions**\n",
    "* Remove the nested index that has been created during the aggregation."
   ]
  },
  {
   "cell_type": "code",
   "execution_count": 32,
   "id": "deb63d71",
   "metadata": {},
   "outputs": [
    {
     "name": "stdout",
     "output_type": "stream",
     "text": [
      "            movie_a                         movie_b\n",
      "0          Bad Boys                            Thor\n",
      "1              Thor                        Bad Boys\n",
      "2          Bad Boys                  21 Jump Street\n",
      "3    21 Jump Street                        Bad Boys\n",
      "4              Thor  Avengers Infinity War - Part:I\n",
      "..              ...                             ...\n",
      "407            Thor                          Cars 2\n",
      "408     Bridesmaids                            Thor\n",
      "409     Bridesmaids                          Cars 2\n",
      "410          Cars 2                            Thor\n",
      "411          Cars 2                     Bridesmaids\n",
      "\n",
      "[412 rows x 2 columns]\n"
     ]
    }
   ],
   "source": [
    "from itertools import permutations\n",
    "\n",
    "# Create the function to find all permutations\n",
    "def find_movie_pairs(x):\n",
    "  pairs = pd.DataFrame(list(permutations(x.values, 2)),\n",
    "                       columns=['movie_a', 'movie_b'])\n",
    "  return pairs\n",
    "\n",
    "# Apply the function to the title column and reset the index\n",
    "movie_combinations = user_ratings_df.groupby('userId')['title'].apply(\n",
    "  find_movie_pairs).reset_index(drop=True)\n",
    "\n",
    "print(movie_combinations) "
   ]
  },
  {
   "cell_type": "markdown",
   "id": "93d780e1",
   "metadata": {},
   "source": [
    "# Counting up the pairs\n",
    "You can now create DataFrame of all the permutations of movies that have been watched by the same user. This is of limited use unless you can find which movies are most commonly paired.\n",
    "\n",
    "In this exercise, you will work with the `movie_combinations` DataFrame that you created in the last exercise (that has been loaded for you), and generate a new DataFrame containing the counts of occurrences of each of the pairs within."
   ]
  },
  {
   "cell_type": "markdown",
   "id": "ef388a0c",
   "metadata": {},
   "source": [
    "**Intructions**\n",
    "* Find the number of times each pair of movies occurs and assign it to `combination_counts`"
   ]
  },
  {
   "cell_type": "code",
   "execution_count": 33,
   "id": "e27dc1f9",
   "metadata": {},
   "outputs": [
    {
     "name": "stdout",
     "output_type": "stream",
     "text": [
      "movie_a         movie_b                       \n",
      "21 Jump Street  Atlas Shrugged Part:1             1\n",
      "                Avengers Infinity War - Part:I    3\n",
      "                Bad Boys                          7\n",
      "                Bad Teacher                       8\n",
      "                Battle Los Angeles                2\n",
      "dtype: int64\n"
     ]
    }
   ],
   "source": [
    "# Calculate how often each item in movies_a occurs with the items in movies_b\n",
    "combination_counts = movie_combinations.groupby(['movie_a', 'movie_b']).size()\n",
    "\n",
    "# Inspect the results\n",
    "print(combination_counts.head()) "
   ]
  },
  {
   "cell_type": "markdown",
   "id": "9364b3fe",
   "metadata": {},
   "source": [
    "**Intructions**\n",
    "* Convert the resulting nested Series (`combination_counts`) to a DataFrame labeled `combination_counts_df` with the counted column named `size`.\n",
    "* Reset the index for ease of reading."
   ]
  },
  {
   "cell_type": "code",
   "execution_count": 34,
   "id": "04507985",
   "metadata": {},
   "outputs": [
    {
     "name": "stdout",
     "output_type": "stream",
     "text": [
      "          movie_a                         movie_b  size\n",
      "0  21 Jump Street           Atlas Shrugged Part:1     1\n",
      "1  21 Jump Street  Avengers Infinity War - Part:I     3\n",
      "2  21 Jump Street                        Bad Boys     7\n",
      "3  21 Jump Street                     Bad Teacher     8\n",
      "4  21 Jump Street              Battle Los Angeles     2\n"
     ]
    }
   ],
   "source": [
    "# Calculate how often each item in movie_a occurs with the items in movie_b\n",
    "combination_counts = movie_combinations.groupby(['movie_a', 'movie_b']).size()\n",
    "\n",
    "# Convert the results to a DataFrame and reset the index\n",
    "combination_counts_df = combination_counts.to_frame(name='size').reset_index()\n",
    "print(combination_counts_df.head())"
   ]
  },
  {
   "cell_type": "markdown",
   "id": "f113f053",
   "metadata": {},
   "source": [
    "# Making your first movie recommendations\n",
    "Now that you have found the most commonly paired movies, you can make your first recommendations!\n",
    "\n",
    "While you are not taking in any information about the person watching, and do not even know any details about the movie, valuable recommendations can still be made by examining what groups of movies are watched by the same people. In this exercise, you will examine the movies often watched by the same people that watched `Thor`, and then use this data to give a recommendation to someone who just watched the movie. The DataFrame you generated in the last lesson, `combination_counts_df`, that contains counts of how often movies are watched together has been loaded for you.\n",
    "\n",
    "**Intructions**\n",
    "* Order the `combination_counts_df` object from largest to smallest by the size column.\n",
    "* Find the newly ordered movie frequencies for the movie Thor by subsetting the ordered `combination_counts_df` object where `movie_a` is Thor assign them to `thor_df` and plot the results."
   ]
  },
  {
   "cell_type": "code",
   "execution_count": 27,
   "id": "362cfc15",
   "metadata": {},
   "outputs": [],
   "source": [
    "combination_counts_df=pd.read_csv('first movie recommendations.csv')"
   ]
  },
  {
   "cell_type": "code",
   "execution_count": 28,
   "id": "7f51d419",
   "metadata": {},
   "outputs": [
    {
     "data": {
      "image/png": "[encoded data removed]",
      "text/plain": [
       "<Figure size 432x288 with 1 Axes>"
      ]
     },
     "metadata": {
      "needs_background": "light"
     },
     "output_type": "display_data"
    }
   ],
   "source": [
    "import matplotlib.pyplot as plt\n",
    "\n",
    "# Sort the counts from highest to lowest\n",
    "combination_counts_df.sort_values('size', ascending=False, inplace=True)\n",
    "\n",
    "# Find the movies most frequently watched by people who watched Thor\n",
    "thor_df = combination_counts_df[combination_counts_df['movie_a'] == 'Thor']\n",
    "\n",
    "# Plot the results\n",
    "thor_df.plot.bar(x=\"movie_b\")\n",
    "plt.show()"
   ]
  }
 ],
 "metadata": {
  "kernelspec": {
   "display_name": "Python 3",
   "language": "python",
   "name": "python3"
  },
  "language_info": {
   "codemirror_mode": {
    "name": "ipython",
    "version": 3
   },
   "file_extension": ".py",
   "mimetype": "text/x-python",
   "name": "python",
   "nbconvert_exporter": "python",
   "pygments_lexer": "ipython3",
   "version": "3.8.8"
  }
 },
 "nbformat": 4,
 "nbformat_minor": 5
}
